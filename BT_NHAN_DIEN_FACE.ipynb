{
  "cells": [
    {
      "cell_type": "markdown",
      "metadata": {
        "id": "view-in-github",
        "colab_type": "text"
      },
      "source": [
        "<a href=\"https://colab.research.google.com/github/sgamaa/BAITAPP/blob/main/BT_NHAN_DIEN_ANN.ipynb\" target=\"_parent\"><img src=\"https://colab.research.google.com/assets/colab-badge.svg\" alt=\"Open In Colab\"/></a>"
      ]
    },
    {
      "cell_type": "code",
      "execution_count": null,
      "metadata": {
        "id": "4-v4JtNIP5tn"
      },
      "outputs": [],
      "source": [
        "# Import Libraries\n",
        "import tensorflow as tf\n",
        "import matplotlib.pyplot as plt\n",
        "import cv2 as cv\n",
        "import os\n",
        "import numpy as np\n",
        "from tensorflow.keras.preprocessing.image import ImageDataGenerator\n",
        "from tensorflow.keras.preprocessing import image\n",
        "from tensorflow.keras import layers\n",
        "# Gọi các thư viện cần thiết \n",
        "import pandas as pd # Xu lý bảng\n",
        "import seaborn as sns # Vẽ biểu đồ thị của dữ liệu\n",
        "import matplotlib.pyplot as plt \n",
        "from sklearn.preprocessing import StandardScaler # Xử lý chuẩn hóa dữ liệu\n",
        "from sklearn.model_selection import train_test_split # Chia dữ liệu ra làm 2 phần\n",
        "from keras.layers import Dense, Activation, Dropout, BatchNormalization, LSTM    # LSTM  biên dạng ANN, BatchNormalization: cho nhỏ lại\n",
        "from keras.models import Sequential\n",
        "from tensorflow.keras.utils import to_categorical # Sử dung để làm nổi đối tượng cần phân loại\n",
        "from keras import callbacks \n",
        "from sklearn.metrics import precision_score, recall_score, confusion_matrix, classification_report, accuracy_score, f1_score # Để đo lường\n",
        "\n",
        "from tensorflow.keras.preprocessing.image import ImageDataGenerator\n",
        "from keras.utils import np_utils\n",
        "from tensorflow.keras.preprocessing import image\n",
        "from keras.layers import Dense, Dropout\n",
        "from keras.callbacks import EarlyStopping\n",
        "import matplotlib.pyplot as plt\n",
        "import tensorflow as tf\n",
        "import cv2\n",
        "\n",
        "import seaborn as sns\n",
        "import matplotlib.pyplot as plt\n",
        "from sklearn import preprocessing\n",
        "from keras import callbacks\n",
        "import keras\n",
        "from keras.layers import Dense # fully connected\n",
        "from keras.datasets import boston_housing\n",
        "from tensorflow.keras.optimizers import RMSprop # toi uu\n",
        "from keras.callbacks import EarlyStopping # dung lai ngay lap tuc\n",
        "from sklearn.preprocessing import scale # xu li du lieu"
      ]
    },
    {
      "cell_type": "code",
      "source": [
        "import glob\n",
        "trung    = glob.glob('/content/drive/MyDrive/Nhan dien mat/*.*')\n",
        "tuan = glob.glob('/content/drive/MyDrive/data_face_rec/train/tuan/*.*')\n",
        "botuan   = glob.glob('/content/drive/MyDrive/data_face_rec/train/trang/*.*')\n",
        "\n",
        "\n",
        "\n",
        "data = []\n",
        "labels = []\n",
        "\n",
        "for i in trung:   \n",
        "    image=tf.keras.preprocessing.image.load_img(i, color_mode='rgb', \n",
        "    target_size= (150,150))\n",
        "    image=np.array(image)\n",
        "    data.append(image)\n",
        "    labels.append(0)\n",
        "for i in tuan:   \n",
        "    image=tf.keras.preprocessing.image.load_img(i, color_mode='rgb', \n",
        "    target_size= (150,150))\n",
        "    image=np.array(image)\n",
        "    data.append(image)\n",
        "    labels.append(1)\n",
        "for i in botuan:   \n",
        "    image=tf.keras.preprocessing.image.load_img(i, color_mode='rgb', \n",
        "    target_size= (150,150))\n",
        "    image=np.array(image)\n",
        "    data.append(image)\n",
        "    labels.append(2)\n"
      ],
      "metadata": {
        "id": "1cxt2IDYW87B"
      },
      "execution_count": null,
      "outputs": []
    },
    {
      "cell_type": "code",
      "execution_count": null,
      "metadata": {
        "id": "tGar81MMSWdw"
      },
      "outputs": [],
      "source": [
        ""
      ]
    },
    {
      "cell_type": "code",
      "execution_count": null,
      "metadata": {
        "id": "OqCdnv8LSa8C"
      },
      "outputs": [],
      "source": [
        "data = np.array(data)\n",
        "labels = np.array(labels)\n",
        "x_train, x_test, y_train, y_test = train_test_split(data, labels, test_size=0.2,random_state=50)\n"
      ]
    },
    {
      "cell_type": "code",
      "source": [
        "# Kich thuoc cac tap du lieu \n",
        "x_train.shape,x_test.shape,y_train.shape,y_test.shape"
      ],
      "metadata": {
        "colab": {
          "base_uri": "https://localhost:8080/"
        },
        "id": "k450G1jlcnP1",
        "outputId": "9cd55065-85e8-485b-e8a6-8b50b3f55bd5"
      },
      "execution_count": null,
      "outputs": [
        {
          "output_type": "execute_result",
          "data": {
            "text/plain": [
              "((18, 150, 150, 3), (5, 150, 150, 3), (18,), (5,))"
            ]
          },
          "metadata": {},
          "execution_count": 21
        }
      ]
    },
    {
      "cell_type": "code",
      "source": [
        "x_train = x_train.reshape((x_train.shape[0],150,150,3))\n",
        "x_train = x_train.astype('float32')/255\n",
        "\n",
        "x_test = x_test.reshape((x_test.shape[0],150,150,3))\n",
        "x_test = x_test.astype('float32')/255\n",
        "\n",
        "y_train = to_categorical(y_train,4)\n",
        "y_test = to_categorical(y_test,4)"
      ],
      "metadata": {
        "id": "kWkjfSg4coIo"
      },
      "execution_count": null,
      "outputs": []
    },
    {
      "cell_type": "code",
      "source": [
        "# Khoi tao model \n",
        "from keras.layers import Conv2D, MaxPooling2D\n",
        "model = Sequential()\n",
        "model.add(Conv2D(32,(3,3), activation='relu',kernel_initializer='he_uniform',padding='same',input_shape=(150,150,3)))\n",
        "model.add(Conv2D(32,(3,3), activation='relu',kernel_initializer='he_uniform',padding='same'))\n",
        "model.add(MaxPooling2D(2,2))\n",
        "\n",
        "model.add(Conv2D(64,(3,3), activation='relu',kernel_initializer='he_uniform',padding='same')) # 64 lan tich chap\n",
        "model.add(Conv2D(64,(3,3), activation='relu',kernel_initializer='he_uniform',padding='same'))\n",
        "model.add(MaxPooling2D(2,2))\n",
        "\n",
        "model.add(Conv2D(128,(3,3), activation='relu',kernel_initializer='he_uniform',padding='same')) # 128 lan tich chap\n",
        "model.add(Conv2D(128,(3,3), activation='relu',kernel_initializer='he_uniform',padding='same'))\n",
        "model.add(MaxPooling2D(2,2))\n",
        "\n",
        "model.add(Conv2D(256,(3,3), activation='relu',kernel_initializer='he_uniform',padding='same')) # 256 lan tich chap\n",
        "model.add(Conv2D(256,(3,3), activation='relu',kernel_initializer='he_uniform',padding='same'))\n",
        "model.add(MaxPooling2D(2,2))\n",
        "\n",
        "from keras.layers import Dense, Activation, Flatten\n",
        "model.add(Flatten())\n",
        "model.add(Dense(128, activation = 'relu', kernel_initializer='he_uniform'))\n",
        "model.add(Dense(128, activation = 'relu', kernel_initializer='he_uniform'))\n",
        "model.add(Dense(128, activation = 'relu', kernel_initializer='he_uniform'))\n",
        "model.add(Dense(128, activation = 'relu', kernel_initializer='he_uniform'))\n",
        "model.add(Dense(128, activation = 'relu', kernel_initializer='he_uniform'))\n",
        "model.add(Dense(128, activation = 'relu', kernel_initializer='he_uniform'))\n",
        "model.add(Dense(4))\n",
        "model.summary()"
      ],
      "metadata": {
        "colab": {
          "base_uri": "https://localhost:8080/"
        },
        "id": "R-EJHsyScpsR",
        "outputId": "5266f8fc-03a1-49cc-e318-74869923a8d8"
      },
      "execution_count": null,
      "outputs": [
        {
          "output_type": "stream",
          "name": "stdout",
          "text": [
            "Model: \"sequential\"\n",
            "_________________________________________________________________\n",
            " Layer (type)                Output Shape              Param #   \n",
            "=================================================================\n",
            " conv2d (Conv2D)             (None, 150, 150, 32)      896       \n",
            "                                                                 \n",
            " conv2d_1 (Conv2D)           (None, 150, 150, 32)      9248      \n",
            "                                                                 \n",
            " max_pooling2d (MaxPooling2D  (None, 75, 75, 32)       0         \n",
            " )                                                               \n",
            "                                                                 \n",
            " conv2d_2 (Conv2D)           (None, 75, 75, 64)        18496     \n",
            "                                                                 \n",
            " conv2d_3 (Conv2D)           (None, 75, 75, 64)        36928     \n",
            "                                                                 \n",
            " max_pooling2d_1 (MaxPooling  (None, 37, 37, 64)       0         \n",
            " 2D)                                                             \n",
            "                                                                 \n",
            " conv2d_4 (Conv2D)           (None, 37, 37, 128)       73856     \n",
            "                                                                 \n",
            " conv2d_5 (Conv2D)           (None, 37, 37, 128)       147584    \n",
            "                                                                 \n",
            " max_pooling2d_2 (MaxPooling  (None, 18, 18, 128)      0         \n",
            " 2D)                                                             \n",
            "                                                                 \n",
            " conv2d_6 (Conv2D)           (None, 18, 18, 256)       295168    \n",
            "                                                                 \n",
            " conv2d_7 (Conv2D)           (None, 18, 18, 256)       590080    \n",
            "                                                                 \n",
            " max_pooling2d_3 (MaxPooling  (None, 9, 9, 256)        0         \n",
            " 2D)                                                             \n",
            "                                                                 \n",
            " flatten (Flatten)           (None, 20736)             0         \n",
            "                                                                 \n",
            " dense (Dense)               (None, 128)               2654336   \n",
            "                                                                 \n",
            " dense_1 (Dense)             (None, 128)               16512     \n",
            "                                                                 \n",
            " dense_2 (Dense)             (None, 128)               16512     \n",
            "                                                                 \n",
            " dense_3 (Dense)             (None, 128)               16512     \n",
            "                                                                 \n",
            " dense_4 (Dense)             (None, 128)               16512     \n",
            "                                                                 \n",
            " dense_5 (Dense)             (None, 128)               16512     \n",
            "                                                                 \n",
            " dense_6 (Dense)             (None, 4)                 516       \n",
            "                                                                 \n",
            "=================================================================\n",
            "Total params: 3,909,668\n",
            "Trainable params: 3,909,668\n",
            "Non-trainable params: 0\n",
            "_________________________________________________________________\n"
          ]
        }
      ]
    },
    {
      "cell_type": "code",
      "source": [
        "model.compile(loss='mse',optimizer=RMSprop(),metrics=['accuracy'])\n",
        "# Training model\n",
        "history=model.fit(x_train,y_train,batch_size=164,epochs=50,validation_data =(x_test,y_test),verbose =1)"
      ],
      "metadata": {
        "colab": {
          "base_uri": "https://localhost:8080/"
        },
        "id": "q3d3HmKXcvZQ",
        "outputId": "dc921d7c-ad60-4b4c-bd2f-3ceb4db689a4"
      },
      "execution_count": null,
      "outputs": [
        {
          "output_type": "stream",
          "name": "stdout",
          "text": [
            "Epoch 1/50\n",
            "1/1 [==============================] - 15s 15s/step - loss: 0.3390 - accuracy: 0.5000 - val_loss: 3040.2412 - val_accuracy: 0.0588\n",
            "Epoch 2/50\n",
            "1/1 [==============================] - 12s 12s/step - loss: 2798.5625 - accuracy: 0.2121 - val_loss: 0.3052 - val_accuracy: 0.0588\n",
            "Epoch 3/50\n",
            "1/1 [==============================] - 12s 12s/step - loss: 0.2837 - accuracy: 0.2121 - val_loss: 0.1945 - val_accuracy: 0.5882\n",
            "Epoch 4/50\n",
            "1/1 [==============================] - 12s 12s/step - loss: 0.1995 - accuracy: 0.5303 - val_loss: 0.5974 - val_accuracy: 0.5882\n",
            "Epoch 5/50\n",
            "1/1 [==============================] - 12s 12s/step - loss: 0.5944 - accuracy: 0.5303 - val_loss: 0.2437 - val_accuracy: 0.3529\n",
            "Epoch 6/50\n",
            "1/1 [==============================] - 12s 12s/step - loss: 0.2405 - accuracy: 0.2576 - val_loss: 0.1909 - val_accuracy: 0.5882\n",
            "Epoch 7/50\n",
            "1/1 [==============================] - 12s 12s/step - loss: 0.1964 - accuracy: 0.5303 - val_loss: 0.1615 - val_accuracy: 0.5882\n",
            "Epoch 8/50\n",
            "1/1 [==============================] - 12s 12s/step - loss: 0.1607 - accuracy: 0.5303 - val_loss: 0.1404 - val_accuracy: 0.5882\n",
            "Epoch 9/50\n",
            "1/1 [==============================] - 12s 12s/step - loss: 0.1617 - accuracy: 0.5303 - val_loss: 0.2612 - val_accuracy: 0.0588\n",
            "Epoch 10/50\n",
            "1/1 [==============================] - 12s 12s/step - loss: 0.2353 - accuracy: 0.3485 - val_loss: 0.1618 - val_accuracy: 0.5882\n",
            "Epoch 11/50\n",
            "1/1 [==============================] - 12s 12s/step - loss: 0.1736 - accuracy: 0.5303 - val_loss: 0.1403 - val_accuracy: 0.5882\n",
            "Epoch 12/50\n",
            "1/1 [==============================] - 12s 12s/step - loss: 0.1541 - accuracy: 0.5303 - val_loss: 0.1490 - val_accuracy: 0.5882\n",
            "Epoch 13/50\n",
            "1/1 [==============================] - 12s 12s/step - loss: 0.1526 - accuracy: 0.5303 - val_loss: 0.1374 - val_accuracy: 0.5882\n",
            "Epoch 14/50\n",
            "1/1 [==============================] - 12s 12s/step - loss: 0.1469 - accuracy: 0.5303 - val_loss: 0.1458 - val_accuracy: 0.5882\n",
            "Epoch 15/50\n",
            "1/1 [==============================] - 12s 12s/step - loss: 0.1443 - accuracy: 0.5303 - val_loss: 0.1360 - val_accuracy: 0.5882\n",
            "Epoch 16/50\n",
            "1/1 [==============================] - 12s 12s/step - loss: 0.1447 - accuracy: 0.5303 - val_loss: 0.1825 - val_accuracy: 0.4118\n",
            "Epoch 17/50\n",
            "1/1 [==============================] - 12s 12s/step - loss: 0.1686 - accuracy: 0.4697 - val_loss: 0.1353 - val_accuracy: 0.5882\n",
            "Epoch 18/50\n",
            "1/1 [==============================] - 12s 12s/step - loss: 0.1406 - accuracy: 0.5303 - val_loss: 0.1397 - val_accuracy: 0.5882\n",
            "Epoch 19/50\n",
            "1/1 [==============================] - 12s 12s/step - loss: 0.1240 - accuracy: 0.6515 - val_loss: 0.1486 - val_accuracy: 0.9412\n",
            "Epoch 20/50\n",
            "1/1 [==============================] - 12s 12s/step - loss: 0.1491 - accuracy: 0.8788 - val_loss: 0.1356 - val_accuracy: 0.5882\n",
            "Epoch 21/50\n",
            "1/1 [==============================] - 12s 12s/step - loss: 0.1193 - accuracy: 0.6212 - val_loss: 0.1326 - val_accuracy: 0.5294\n",
            "Epoch 22/50\n",
            "1/1 [==============================] - 12s 12s/step - loss: 0.1137 - accuracy: 0.6970 - val_loss: 0.3374 - val_accuracy: 0.5882\n",
            "Epoch 23/50\n",
            "1/1 [==============================] - 12s 12s/step - loss: 0.3215 - accuracy: 0.5303 - val_loss: 0.2084 - val_accuracy: 0.3529\n",
            "Epoch 24/50\n",
            "1/1 [==============================] - 12s 12s/step - loss: 0.2130 - accuracy: 0.3333 - val_loss: 0.1364 - val_accuracy: 0.5882\n",
            "Epoch 25/50\n",
            "1/1 [==============================] - 12s 12s/step - loss: 0.1393 - accuracy: 0.6364 - val_loss: 0.1298 - val_accuracy: 0.9412\n",
            "Epoch 26/50\n",
            "1/1 [==============================] - 12s 12s/step - loss: 0.1229 - accuracy: 0.8939 - val_loss: 0.1331 - val_accuracy: 0.5882\n",
            "Epoch 27/50\n",
            "1/1 [==============================] - 12s 12s/step - loss: 0.1208 - accuracy: 0.6515 - val_loss: 0.1271 - val_accuracy: 0.8824\n",
            "Epoch 28/50\n",
            "1/1 [==============================] - 12s 12s/step - loss: 0.1140 - accuracy: 0.8485 - val_loss: 0.1446 - val_accuracy: 0.5882\n",
            "Epoch 29/50\n",
            "1/1 [==============================] - 12s 12s/step - loss: 0.1233 - accuracy: 0.6515 - val_loss: 0.1154 - val_accuracy: 0.9412\n",
            "Epoch 30/50\n",
            "1/1 [==============================] - 12s 12s/step - loss: 0.1040 - accuracy: 0.9091 - val_loss: 0.1338 - val_accuracy: 0.5882\n",
            "Epoch 31/50\n",
            "1/1 [==============================] - 12s 12s/step - loss: 0.1108 - accuracy: 0.6515 - val_loss: 0.1272 - val_accuracy: 0.4706\n",
            "Epoch 32/50\n",
            "1/1 [==============================] - 12s 12s/step - loss: 0.1146 - accuracy: 0.7273 - val_loss: 0.1240 - val_accuracy: 0.5882\n",
            "Epoch 33/50\n",
            "1/1 [==============================] - 12s 12s/step - loss: 0.1034 - accuracy: 0.6515 - val_loss: 0.1254 - val_accuracy: 0.5294\n",
            "Epoch 34/50\n",
            "1/1 [==============================] - 12s 12s/step - loss: 0.0976 - accuracy: 0.7424 - val_loss: 0.1548 - val_accuracy: 0.5882\n",
            "Epoch 35/50\n",
            "1/1 [==============================] - 12s 12s/step - loss: 0.1279 - accuracy: 0.6818 - val_loss: 0.1179 - val_accuracy: 0.9412\n",
            "Epoch 36/50\n",
            "1/1 [==============================] - 12s 12s/step - loss: 0.1143 - accuracy: 0.8636 - val_loss: 0.1333 - val_accuracy: 0.9412\n",
            "Epoch 37/50\n",
            "1/1 [==============================] - 12s 12s/step - loss: 0.1002 - accuracy: 0.9697 - val_loss: 0.0630 - val_accuracy: 0.9412\n",
            "Epoch 38/50\n",
            "1/1 [==============================] - 12s 12s/step - loss: 0.0633 - accuracy: 0.8788 - val_loss: 0.2094 - val_accuracy: 0.3529\n",
            "Epoch 39/50\n",
            "1/1 [==============================] - 12s 12s/step - loss: 0.1369 - accuracy: 0.5909 - val_loss: 0.3919 - val_accuracy: 0.5882\n",
            "Epoch 40/50\n",
            "1/1 [==============================] - 12s 12s/step - loss: 0.3937 - accuracy: 0.6212 - val_loss: 0.1812 - val_accuracy: 0.5882\n",
            "Epoch 41/50\n",
            "1/1 [==============================] - 12s 12s/step - loss: 0.1800 - accuracy: 0.6667 - val_loss: 0.1209 - val_accuracy: 0.7059\n",
            "Epoch 42/50\n",
            "1/1 [==============================] - 12s 12s/step - loss: 0.1086 - accuracy: 0.8333 - val_loss: 0.1176 - val_accuracy: 0.5882\n",
            "Epoch 43/50\n",
            "1/1 [==============================] - 12s 12s/step - loss: 0.1010 - accuracy: 0.6515 - val_loss: 0.1515 - val_accuracy: 0.4118\n",
            "Epoch 44/50\n",
            "1/1 [==============================] - 12s 12s/step - loss: 0.1230 - accuracy: 0.5152 - val_loss: 0.1543 - val_accuracy: 0.5882\n",
            "Epoch 45/50\n",
            "1/1 [==============================] - 12s 12s/step - loss: 0.1216 - accuracy: 0.7121 - val_loss: 0.1012 - val_accuracy: 0.9412\n",
            "Epoch 46/50\n",
            "1/1 [==============================] - 12s 12s/step - loss: 0.0841 - accuracy: 0.9242 - val_loss: 0.1090 - val_accuracy: 0.9412\n",
            "Epoch 47/50\n",
            "1/1 [==============================] - 12s 12s/step - loss: 0.0792 - accuracy: 0.9848 - val_loss: 0.0854 - val_accuracy: 0.9412\n",
            "Epoch 48/50\n",
            "1/1 [==============================] - 12s 12s/step - loss: 0.0801 - accuracy: 0.9091 - val_loss: 0.0759 - val_accuracy: 0.9412\n",
            "Epoch 49/50\n",
            "1/1 [==============================] - 12s 12s/step - loss: 0.0535 - accuracy: 0.9697 - val_loss: 0.0809 - val_accuracy: 0.6471\n",
            "Epoch 50/50\n",
            "1/1 [==============================] - 12s 12s/step - loss: 0.0725 - accuracy: 0.6667 - val_loss: 0.2440 - val_accuracy: 0.3529\n"
          ]
        }
      ]
    },
    {
      "cell_type": "code",
      "source": [
        "# Save model\n",
        "from tensorflow.keras.models import load_model\n",
        "model.save('Final.h5')\n",
        "model_ANN = load_model('Final.h5')"
      ],
      "metadata": {
        "id": "597ZHGq1cxYi"
      },
      "execution_count": null,
      "outputs": []
    },
    {
      "cell_type": "code",
      "source": [
        "# Check accuracy\n",
        "from tensorflow.keras.utils import load_img, img_to_array\n",
        "import numpy as np\n",
        "filename = \"/content/drive/MyDrive/Nhan dien mat/1653116400340.jpg\"\n",
        "\n",
        "predict = ['trung','tuan','botuan']\n",
        "predict = np.array(predict)\n",
        "\n",
        "\n",
        "img = load_img(filename,target_size=(150,150))\n",
        "img = img_to_array(img)\n",
        "img = img.reshape(1,150,150,3)\n",
        "img = img.astype('float32')\n",
        "img = img/255\n",
        "\n",
        "result = np.argmax(model_ANN.predict(img),axis=-1)\n",
        "predict[result]"
      ],
      "metadata": {
        "colab": {
          "base_uri": "https://localhost:8080/"
        },
        "id": "m2uf9TDhgBEP",
        "outputId": "4e35fce9-a516-44a8-8809-ee625cb4d0b3"
      },
      "execution_count": null,
      "outputs": [
        {
          "output_type": "execute_result",
          "data": {
            "text/plain": [
              "array(['trung'], dtype='<U6')"
            ]
          },
          "metadata": {},
          "execution_count": 13
        }
      ]
    },
    {
      "cell_type": "code",
      "source": [
        "# Check accuracy\n",
        "from tensorflow.keras.utils import load_img, img_to_array\n",
        "import numpy as np\n",
        "filename = \"/content/drive/MyDrive/data_face_rec/train/trang/trang (44).jpg\"\n",
        "\n",
        "predict = ['trung','tuan','botuan']\n",
        "predict = np.array(predict)\n",
        "\n",
        "\n",
        "img = load_img(filename,target_size=(150,150))\n",
        "img = img_to_array(img)\n",
        "img = img.reshape(1,150,150,3)\n",
        "img = img.astype('float32')\n",
        "img = img/255\n",
        "\n",
        "result = np.argmax(model_ANN.predict(img),axis=-1)\n",
        "predict[result]"
      ],
      "metadata": {
        "id": "9d1oC8vEgNVU",
        "outputId": "78b2c0e2-bb83-4997-bb41-4381e99e24a3",
        "colab": {
          "base_uri": "https://localhost:8080/"
        }
      },
      "execution_count": null,
      "outputs": [
        {
          "output_type": "execute_result",
          "data": {
            "text/plain": [
              "array(['trung'], dtype='<U6')"
            ]
          },
          "metadata": {},
          "execution_count": 18
        }
      ]
    }
  ],
  "metadata": {
    "colab": {
      "name": "BT_NHAN_DIEN_ANN.ipynb",
      "provenance": [],
      "mount_file_id": "16fIsfSNSTbMO3mWz3VLkaAVZiH9FVBZd",
      "authorship_tag": "ABX9TyMfN0Ig9LEHvybQuf5kgoim",
      "include_colab_link": true
    },
    "kernelspec": {
      "display_name": "Python 3",
      "name": "python3"
    },
    "language_info": {
      "name": "python"
    }
  },
  "nbformat": 4,
  "nbformat_minor": 0
}
