{
  "cells": [
    {
      "cell_type": "markdown",
      "metadata": {
        "id": "view-in-github",
        "colab_type": "text"
      },
      "source": [
        "<a href=\"https://colab.research.google.com/github/sgamaa/BAITAP_AI/blob/main/nhan_dien_do_an.ipynb\" target=\"_parent\"><img src=\"https://colab.research.google.com/assets/colab-badge.svg\" alt=\"Open In Colab\"/></a>"
      ]
    },
    {
      "cell_type": "code",
      "execution_count": 3,
      "metadata": {
        "id": "8bUxuz9Q18EI"
      },
      "outputs": [],
      "source": [
        "# Import Libraries\n",
        "import tensorflow as tf\n",
        "import matplotlib.pyplot as plt\n",
        "import cv2 as cv\n",
        "import os\n",
        "import numpy as np\n",
        "from tensorflow.keras.preprocessing.image import ImageDataGenerator\n",
        "from tensorflow.keras.preprocessing import image\n",
        "from tensorflow.keras import layers\n",
        "# Gọi các thư viện cần thiết \n",
        "import pandas as pd # Xu lý bảng\n",
        "import seaborn as sns # Vẽ biểu đồ thị của dữ liệu\n",
        "import matplotlib.pyplot as plt \n",
        "from sklearn.preprocessing import StandardScaler # Xử lý chuẩn hóa dữ liệu\n",
        "from sklearn.model_selection import train_test_split # Chia dữ liệu ra làm 2 phần\n",
        "from keras.layers import Dense, Activation, Dropout, BatchNormalization, LSTM    # LSTM  biên dạng ANN, BatchNormalization: cho nhỏ lại\n",
        "from keras.models import Sequential\n",
        "from tensorflow.keras.utils import to_categorical # Sử dung để làm nổi đối tượng cần phân loại\n",
        "from keras import callbacks \n",
        "from sklearn.metrics import precision_score, recall_score, confusion_matrix, classification_report, accuracy_score, f1_score # Để đo lường\n",
        "\n",
        "from tensorflow.keras.preprocessing.image import ImageDataGenerator\n",
        "from keras.utils import np_utils\n",
        "from tensorflow.keras.preprocessing import image\n",
        "from keras.layers import Dense, Dropout\n",
        "from keras.callbacks import EarlyStopping\n",
        "import matplotlib.pyplot as plt\n",
        "import tensorflow as tf\n",
        "import cv2\n",
        "\n",
        "import seaborn as sns\n",
        "import matplotlib.pyplot as plt\n",
        "from sklearn import preprocessing\n",
        "from keras import callbacks\n",
        "import keras\n",
        "from keras.layers import Dense # fully connected\n",
        "from keras.datasets import boston_housing\n",
        "from tensorflow.keras.optimizers import RMSprop # toi uu\n",
        "from keras.callbacks import EarlyStopping # dung lai ngay lap tuc\n",
        "from sklearn.preprocessing import scale # xu li du lieu"
      ]
    },
    {
      "cell_type": "code",
      "execution_count": 4,
      "metadata": {
        "id": "8Xa5laPk2mIB"
      },
      "outputs": [],
      "source": [
        "import glob\n",
        "pho    = glob.glob('/content/drive/MyDrive/Data_food/train/Pho/*.*')\n",
        "banhmi = glob.glob('/content/drive/MyDrive/Data_food/train/banhmi/*.*')\n",
        "banhxeo = glob.glob('/content/drive/MyDrive/Data_food/train/banhxeo/*.*')\n",
        "buncha = glob.glob('/content/drive/MyDrive/Data_food/train/buncha/*.*')\n",
        "bunrieu = glob.glob('/content/drive/MyDrive/Data_food/train/bunrieu/*.*')\n",
        "chetroinuoc = glob.glob('/content/drive/MyDrive/Data_food/train/chetroinuoc/*.*')\n",
        "gakho = glob.glob('/content/drive/MyDrive/Data_food/train/gakho/*.*')\n",
        "goicuon = glob.glob('/content/drive/MyDrive/Data_food/train/goicuon/*.*')\n",
        "miquang = glob.glob('/content/drive/MyDrive/Data_food/train/miquang/*.*')\n",
        "thitkho = glob.glob('/content/drive/MyDrive/Data_food/train/thitkho/*.*')\n",
        "\n",
        "data = []\n",
        "labels = []\n",
        "\n",
        "for i in pho:   \n",
        "    image=tf.keras.preprocessing.image.load_img(i, color_mode='rgb', \n",
        "    target_size= (150,150))\n",
        "    image=np.array(image)\n",
        "    data.append(image)\n",
        "    labels.append(0)\n",
        "for i in banhmi:   \n",
        "    image=tf.keras.preprocessing.image.load_img(i, color_mode='rgb', \n",
        "    target_size= (150,150))\n",
        "    image=np.array(image)\n",
        "    data.append(image)\n",
        "    labels.append(1)\n",
        "for i in banhxeo:   \n",
        "    image=tf.keras.preprocessing.image.load_img(i, color_mode='rgb', \n",
        "    target_size= (150,150))\n",
        "    image=np.array(image)\n",
        "    data.append(image)\n",
        "    labels.append(2)\n",
        "for i in buncha:   \n",
        "    image=tf.keras.preprocessing.image.load_img(i, color_mode='rgb', \n",
        "    target_size= (150,150))\n",
        "    image=np.array(image)\n",
        "    data.append(image)\n",
        "    labels.append(3)\n",
        "for i in bunrieu:   \n",
        "    image=tf.keras.preprocessing.image.load_img(i, color_mode='rgb', \n",
        "    target_size= (150,150))\n",
        "    image=np.array(image)\n",
        "    data.append(image)\n",
        "    labels.append(4)\n",
        "for i in chetroinuoc:   \n",
        "    image=tf.keras.preprocessing.image.load_img(i, color_mode='rgb', \n",
        "    target_size= (150,150))\n",
        "    image=np.array(image)\n",
        "    data.append(image)\n",
        "    labels.append(5)\n",
        "for i in gakho:   \n",
        "    image=tf.keras.preprocessing.image.load_img(i, color_mode='rgb', \n",
        "    target_size= (150,150))\n",
        "    image=np.array(image)\n",
        "    data.append(image)\n",
        "    labels.append(6)\n",
        "for i in goicuon:   \n",
        "    image=tf.keras.preprocessing.image.load_img(i, color_mode='rgb', \n",
        "    target_size= (150,150))\n",
        "    image=np.array(image)\n",
        "    data.append(image)\n",
        "    labels.append(7)\n",
        "for i in miquang:   \n",
        "    image=tf.keras.preprocessing.image.load_img(i, color_mode='rgb', \n",
        "    target_size= (150,150))\n",
        "    image=np.array(image)\n",
        "    data.append(image)\n",
        "    labels.append(8)\n",
        "for i in thitkho:   \n",
        "    image=tf.keras.preprocessing.image.load_img(i, color_mode='rgb', \n",
        "    target_size= (150,150))\n",
        "    image=np.array(image)\n",
        "    data.append(image)\n",
        "    labels.append(9)"
      ]
    },
    {
      "cell_type": "code",
      "execution_count": 5,
      "metadata": {
        "id": "6Wj3p5x66BWq"
      },
      "outputs": [],
      "source": [
        "data = np.array(data)\n",
        "labels = np.array(labels)\n",
        "x_train, x_test, y_train, y_test = train_test_split(data, labels, test_size=0.2,random_state=50)"
      ]
    },
    {
      "cell_type": "code",
      "execution_count": 6,
      "metadata": {
        "colab": {
          "base_uri": "https://localhost:8080/"
        },
        "id": "QDqfR0276f3V",
        "outputId": "248367c3-d540-4061-ca44-b33f744d8ad2"
      },
      "outputs": [
        {
          "output_type": "execute_result",
          "data": {
            "text/plain": [
              "((320, 150, 150, 3), (80, 150, 150, 3), (320,), (80,))"
            ]
          },
          "metadata": {},
          "execution_count": 6
        }
      ],
      "source": [
        "# Kich thuoc cac tap du lieu \n",
        "x_train.shape,x_test.shape,y_train.shape,y_test.shape"
      ]
    },
    {
      "cell_type": "code",
      "execution_count": 7,
      "metadata": {
        "id": "Eo0z4HUc6g8F"
      },
      "outputs": [],
      "source": [
        "x_train = x_train.reshape((x_train.shape[0],150,150,3))\n",
        "x_train = x_train.astype('float32')/255\n",
        "\n",
        "x_test = x_test.reshape((x_test.shape[0],150,150,3))\n",
        "x_test = x_test.astype('float32')/255\n",
        "\n",
        "y_train = to_categorical(y_train,10)\n",
        "y_test = to_categorical(y_test,10)"
      ]
    },
    {
      "cell_type": "code",
      "execution_count": 8,
      "metadata": {
        "colab": {
          "base_uri": "https://localhost:8080/"
        },
        "id": "ZdehElwu7R7W",
        "outputId": "1536241f-53ab-47b5-f60b-33825b635fe4"
      },
      "outputs": [
        {
          "output_type": "stream",
          "name": "stdout",
          "text": [
            "Model: \"sequential\"\n",
            "_________________________________________________________________\n",
            " Layer (type)                Output Shape              Param #   \n",
            "=================================================================\n",
            " conv2d (Conv2D)             (None, 150, 150, 32)      896       \n",
            "                                                                 \n",
            " conv2d_1 (Conv2D)           (None, 150, 150, 32)      9248      \n",
            "                                                                 \n",
            " max_pooling2d (MaxPooling2D  (None, 75, 75, 32)       0         \n",
            " )                                                               \n",
            "                                                                 \n",
            " conv2d_2 (Conv2D)           (None, 75, 75, 64)        18496     \n",
            "                                                                 \n",
            " conv2d_3 (Conv2D)           (None, 75, 75, 64)        36928     \n",
            "                                                                 \n",
            " max_pooling2d_1 (MaxPooling  (None, 37, 37, 64)       0         \n",
            " 2D)                                                             \n",
            "                                                                 \n",
            " conv2d_4 (Conv2D)           (None, 37, 37, 128)       73856     \n",
            "                                                                 \n",
            " conv2d_5 (Conv2D)           (None, 37, 37, 128)       147584    \n",
            "                                                                 \n",
            " max_pooling2d_2 (MaxPooling  (None, 18, 18, 128)      0         \n",
            " 2D)                                                             \n",
            "                                                                 \n",
            " conv2d_6 (Conv2D)           (None, 18, 18, 256)       295168    \n",
            "                                                                 \n",
            " conv2d_7 (Conv2D)           (None, 18, 18, 256)       590080    \n",
            "                                                                 \n",
            " max_pooling2d_3 (MaxPooling  (None, 9, 9, 256)        0         \n",
            " 2D)                                                             \n",
            "                                                                 \n",
            " flatten (Flatten)           (None, 20736)             0         \n",
            "                                                                 \n",
            " dense (Dense)               (None, 128)               2654336   \n",
            "                                                                 \n",
            " dense_1 (Dense)             (None, 128)               16512     \n",
            "                                                                 \n",
            " dense_2 (Dense)             (None, 128)               16512     \n",
            "                                                                 \n",
            " dense_3 (Dense)             (None, 128)               16512     \n",
            "                                                                 \n",
            " dense_4 (Dense)             (None, 128)               16512     \n",
            "                                                                 \n",
            " dense_5 (Dense)             (None, 128)               16512     \n",
            "                                                                 \n",
            " dense_6 (Dense)             (None, 10)                1290      \n",
            "                                                                 \n",
            "=================================================================\n",
            "Total params: 3,910,442\n",
            "Trainable params: 3,910,442\n",
            "Non-trainable params: 0\n",
            "_________________________________________________________________\n"
          ]
        }
      ],
      "source": [
        "# Khoi tao model \n",
        "from keras.layers import Conv2D, MaxPooling2D\n",
        "model = Sequential()\n",
        "model.add(Conv2D(32,(3,3), activation='relu',kernel_initializer='he_uniform',padding='same',input_shape=(150,150,3)))\n",
        "model.add(Conv2D(32,(3,3), activation='relu',kernel_initializer='he_uniform',padding='same'))\n",
        "model.add(MaxPooling2D(2,2))\n",
        "\n",
        "model.add(Conv2D(64,(3,3), activation='relu',kernel_initializer='he_uniform',padding='same')) # 64 lan tich chap\n",
        "model.add(Conv2D(64,(3,3), activation='relu',kernel_initializer='he_uniform',padding='same'))\n",
        "model.add(MaxPooling2D(2,2))\n",
        "\n",
        "model.add(Conv2D(128,(3,3), activation='relu',kernel_initializer='he_uniform',padding='same')) # 128 lan tich chap\n",
        "model.add(Conv2D(128,(3,3), activation='relu',kernel_initializer='he_uniform',padding='same'))\n",
        "model.add(MaxPooling2D(2,2))\n",
        "\n",
        "model.add(Conv2D(256,(3,3), activation='relu',kernel_initializer='he_uniform',padding='same')) # 256 lan tich chap\n",
        "model.add(Conv2D(256,(3,3), activation='relu',kernel_initializer='he_uniform',padding='same'))\n",
        "model.add(MaxPooling2D(2,2))\n",
        "\n",
        "from keras.layers import Dense, Activation, Flatten\n",
        "model.add(Flatten())\n",
        "model.add(Dense(128, activation = 'relu', kernel_initializer='he_uniform'))\n",
        "model.add(Dense(128, activation = 'relu', kernel_initializer='he_uniform'))\n",
        "model.add(Dense(128, activation = 'relu', kernel_initializer='he_uniform'))\n",
        "model.add(Dense(128, activation = 'relu', kernel_initializer='he_uniform'))\n",
        "model.add(Dense(128, activation = 'relu', kernel_initializer='he_uniform'))\n",
        "model.add(Dense(128, activation = 'relu', kernel_initializer='he_uniform'))\n",
        "model.add(Dense(10))\n",
        "model.summary()"
      ]
    },
    {
      "cell_type": "code",
      "execution_count": 9,
      "metadata": {
        "colab": {
          "base_uri": "https://localhost:8080/"
        },
        "id": "o2Wid2F77TWF",
        "outputId": "ae835610-14db-46d4-e489-1ff3808e98e4"
      },
      "outputs": [
        {
          "output_type": "stream",
          "name": "stdout",
          "text": [
            "Epoch 1/50\n",
            "2/2 [==============================] - 27s 7s/step - loss: 3416.0566 - accuracy: 0.0719 - val_loss: 0.2297 - val_accuracy: 0.1125\n",
            "Epoch 2/50\n",
            "2/2 [==============================] - 1s 396ms/step - loss: 0.1711 - accuracy: 0.0875 - val_loss: 0.1026 - val_accuracy: 0.1625\n",
            "Epoch 3/50\n",
            "2/2 [==============================] - 1s 392ms/step - loss: 0.1028 - accuracy: 0.1000 - val_loss: 0.0964 - val_accuracy: 0.1500\n",
            "Epoch 4/50\n",
            "2/2 [==============================] - 1s 390ms/step - loss: 0.0954 - accuracy: 0.0875 - val_loss: 0.0907 - val_accuracy: 0.1625\n",
            "Epoch 5/50\n",
            "2/2 [==============================] - 1s 402ms/step - loss: 0.0900 - accuracy: 0.1219 - val_loss: 0.0918 - val_accuracy: 0.1250\n",
            "Epoch 6/50\n",
            "2/2 [==============================] - 1s 393ms/step - loss: 0.0923 - accuracy: 0.1406 - val_loss: 0.0969 - val_accuracy: 0.0500\n",
            "Epoch 7/50\n",
            "2/2 [==============================] - 1s 395ms/step - loss: 0.0916 - accuracy: 0.1375 - val_loss: 0.0908 - val_accuracy: 0.1250\n",
            "Epoch 8/50\n",
            "2/2 [==============================] - 1s 393ms/step - loss: 0.0876 - accuracy: 0.1969 - val_loss: 0.0903 - val_accuracy: 0.1500\n",
            "Epoch 9/50\n",
            "2/2 [==============================] - 1s 391ms/step - loss: 0.0948 - accuracy: 0.1000 - val_loss: 0.0936 - val_accuracy: 0.0750\n",
            "Epoch 10/50\n",
            "2/2 [==============================] - 1s 393ms/step - loss: 0.0907 - accuracy: 0.1469 - val_loss: 0.0913 - val_accuracy: 0.0625\n",
            "Epoch 11/50\n",
            "2/2 [==============================] - 1s 391ms/step - loss: 0.0886 - accuracy: 0.1688 - val_loss: 0.0945 - val_accuracy: 0.0375\n",
            "Epoch 12/50\n",
            "2/2 [==============================] - 1s 471ms/step - loss: 0.0886 - accuracy: 0.1875 - val_loss: 0.0912 - val_accuracy: 0.1125\n",
            "Epoch 13/50\n",
            "2/2 [==============================] - 1s 395ms/step - loss: 0.0883 - accuracy: 0.1469 - val_loss: 0.0905 - val_accuracy: 0.1125\n",
            "Epoch 14/50\n",
            "2/2 [==============================] - 1s 396ms/step - loss: 0.0885 - accuracy: 0.2188 - val_loss: 0.0901 - val_accuracy: 0.1000\n",
            "Epoch 15/50\n",
            "2/2 [==============================] - 1s 395ms/step - loss: 0.0869 - accuracy: 0.2438 - val_loss: 0.0896 - val_accuracy: 0.1500\n",
            "Epoch 16/50\n",
            "2/2 [==============================] - 1s 390ms/step - loss: 0.0846 - accuracy: 0.2219 - val_loss: 0.0951 - val_accuracy: 0.0625\n",
            "Epoch 17/50\n",
            "2/2 [==============================] - 1s 404ms/step - loss: 0.0882 - accuracy: 0.2125 - val_loss: 0.0919 - val_accuracy: 0.0750\n",
            "Epoch 18/50\n",
            "2/2 [==============================] - 1s 398ms/step - loss: 0.0866 - accuracy: 0.1625 - val_loss: 0.0895 - val_accuracy: 0.1250\n",
            "Epoch 19/50\n",
            "2/2 [==============================] - 1s 405ms/step - loss: 0.0841 - accuracy: 0.2438 - val_loss: 0.0926 - val_accuracy: 0.0750\n",
            "Epoch 20/50\n",
            "2/2 [==============================] - 1s 393ms/step - loss: 0.0848 - accuracy: 0.2000 - val_loss: 0.1193 - val_accuracy: 0.1500\n",
            "Epoch 21/50\n",
            "2/2 [==============================] - 1s 473ms/step - loss: 0.1072 - accuracy: 0.1031 - val_loss: 0.0894 - val_accuracy: 0.1625\n",
            "Epoch 22/50\n",
            "2/2 [==============================] - 1s 390ms/step - loss: 0.0860 - accuracy: 0.2562 - val_loss: 0.0873 - val_accuracy: 0.2750\n",
            "Epoch 23/50\n",
            "2/2 [==============================] - 1s 389ms/step - loss: 0.0817 - accuracy: 0.4969 - val_loss: 0.0941 - val_accuracy: 0.1375\n",
            "Epoch 24/50\n",
            "2/2 [==============================] - 1s 396ms/step - loss: 0.0903 - accuracy: 0.2188 - val_loss: 0.0918 - val_accuracy: 0.0625\n",
            "Epoch 25/50\n",
            "2/2 [==============================] - 1s 396ms/step - loss: 0.0873 - accuracy: 0.1469 - val_loss: 0.0906 - val_accuracy: 0.1625\n",
            "Epoch 26/50\n",
            "2/2 [==============================] - 1s 394ms/step - loss: 0.0820 - accuracy: 0.3781 - val_loss: 0.0922 - val_accuracy: 0.1750\n",
            "Epoch 27/50\n",
            "2/2 [==============================] - 1s 393ms/step - loss: 0.0860 - accuracy: 0.2531 - val_loss: 0.0874 - val_accuracy: 0.2750\n",
            "Epoch 28/50\n",
            "2/2 [==============================] - 1s 473ms/step - loss: 0.0798 - accuracy: 0.4187 - val_loss: 0.0878 - val_accuracy: 0.2625\n",
            "Epoch 29/50\n",
            "2/2 [==============================] - 1s 391ms/step - loss: 0.0834 - accuracy: 0.3000 - val_loss: 0.0890 - val_accuracy: 0.1875\n",
            "Epoch 30/50\n",
            "2/2 [==============================] - 1s 400ms/step - loss: 0.0778 - accuracy: 0.4344 - val_loss: 0.0900 - val_accuracy: 0.2625\n",
            "Epoch 31/50\n",
            "2/2 [==============================] - 1s 397ms/step - loss: 0.0754 - accuracy: 0.5375 - val_loss: 0.0851 - val_accuracy: 0.2375\n",
            "Epoch 32/50\n",
            "2/2 [==============================] - 1s 391ms/step - loss: 0.0770 - accuracy: 0.4750 - val_loss: 0.1131 - val_accuracy: 0.1125\n",
            "Epoch 33/50\n",
            "2/2 [==============================] - 1s 398ms/step - loss: 0.0933 - accuracy: 0.2812 - val_loss: 0.0875 - val_accuracy: 0.1875\n",
            "Epoch 34/50\n",
            "2/2 [==============================] - 1s 394ms/step - loss: 0.0788 - accuracy: 0.4500 - val_loss: 0.0883 - val_accuracy: 0.1625\n",
            "Epoch 35/50\n",
            "2/2 [==============================] - 1s 397ms/step - loss: 0.0778 - accuracy: 0.4031 - val_loss: 0.0962 - val_accuracy: 0.1000\n",
            "Epoch 36/50\n",
            "2/2 [==============================] - 1s 396ms/step - loss: 0.0848 - accuracy: 0.2562 - val_loss: 0.0897 - val_accuracy: 0.1750\n",
            "Epoch 37/50\n",
            "2/2 [==============================] - 1s 397ms/step - loss: 0.0827 - accuracy: 0.2750 - val_loss: 0.0914 - val_accuracy: 0.2250\n",
            "Epoch 38/50\n",
            "2/2 [==============================] - 1s 395ms/step - loss: 0.0737 - accuracy: 0.4969 - val_loss: 0.1148 - val_accuracy: 0.1625\n",
            "Epoch 39/50\n",
            "2/2 [==============================] - 1s 396ms/step - loss: 0.0917 - accuracy: 0.2844 - val_loss: 0.0872 - val_accuracy: 0.2125\n",
            "Epoch 40/50\n",
            "2/2 [==============================] - 1s 479ms/step - loss: 0.0754 - accuracy: 0.4719 - val_loss: 0.0864 - val_accuracy: 0.2000\n",
            "Epoch 41/50\n",
            "2/2 [==============================] - 1s 396ms/step - loss: 0.0758 - accuracy: 0.4656 - val_loss: 0.0876 - val_accuracy: 0.2750\n",
            "Epoch 42/50\n",
            "2/2 [==============================] - 1s 398ms/step - loss: 0.0734 - accuracy: 0.5063 - val_loss: 0.0932 - val_accuracy: 0.1875\n",
            "Epoch 43/50\n",
            "2/2 [==============================] - 1s 399ms/step - loss: 0.0853 - accuracy: 0.4031 - val_loss: 0.1205 - val_accuracy: 0.1500\n",
            "Epoch 44/50\n",
            "2/2 [==============================] - 1s 473ms/step - loss: 0.1048 - accuracy: 0.1406 - val_loss: 0.0893 - val_accuracy: 0.1250\n",
            "Epoch 45/50\n",
            "2/2 [==============================] - 1s 400ms/step - loss: 0.0789 - accuracy: 0.4156 - val_loss: 0.0846 - val_accuracy: 0.2875\n",
            "Epoch 46/50\n",
            "2/2 [==============================] - 1s 396ms/step - loss: 0.0758 - accuracy: 0.4469 - val_loss: 0.0868 - val_accuracy: 0.2250\n",
            "Epoch 47/50\n",
            "2/2 [==============================] - 1s 397ms/step - loss: 0.0712 - accuracy: 0.4938 - val_loss: 0.0939 - val_accuracy: 0.1875\n",
            "Epoch 48/50\n",
            "2/2 [==============================] - 1s 402ms/step - loss: 0.0686 - accuracy: 0.5312 - val_loss: 0.0913 - val_accuracy: 0.2500\n",
            "Epoch 49/50\n",
            "2/2 [==============================] - 1s 392ms/step - loss: 0.0752 - accuracy: 0.4500 - val_loss: 0.0881 - val_accuracy: 0.2250\n",
            "Epoch 50/50\n",
            "2/2 [==============================] - 1s 390ms/step - loss: 0.0700 - accuracy: 0.5531 - val_loss: 0.0851 - val_accuracy: 0.3000\n"
          ]
        }
      ],
      "source": [
        "model.compile(loss='mse',optimizer=RMSprop(),metrics=['accuracy'])\n",
        "# Training model\n",
        "history=model.fit(x_train,y_train,batch_size=164,epochs=50,validation_data =(x_test,y_test),verbose =1)"
      ]
    },
    {
      "cell_type": "code",
      "execution_count": 10,
      "metadata": {
        "id": "2s1HLDkoG32N"
      },
      "outputs": [],
      "source": [
        "# Save model\n",
        "from tensorflow.keras.models import load_model\n",
        "model.save('Final.h5')\n",
        "model_ANN = load_model('Final.h5')"
      ]
    },
    {
      "cell_type": "code",
      "execution_count": 11,
      "metadata": {
        "id": "xar1HYj07Tca",
        "colab": {
          "base_uri": "https://localhost:8080/"
        },
        "outputId": "8b86cb60-3ca2-4fc6-b24a-4640a1cabf66"
      },
      "outputs": [
        {
          "output_type": "execute_result",
          "data": {
            "text/plain": [
              "array(['goicuon'], dtype='<U11')"
            ]
          },
          "metadata": {},
          "execution_count": 11
        }
      ],
      "source": [
        "# Check accuracy\n",
        "from tensorflow.keras.utils import load_img, img_to_array\n",
        "import numpy as np\n",
        "filename = \"/content/drive/MyDrive/Data_food/train/goicuon/goicuon10.jpg\"\n",
        "\n",
        "predict = ['pho','banhmi','banhxeo','buncha','bunrieu','chetroinuoc','gakho','goicuon','miquang','thitkho']\n",
        "predict = np.array(predict)\n",
        "\n",
        "\n",
        "img = load_img(filename,target_size=(150,150))\n",
        "img = img_to_array(img)\n",
        "img = img.reshape(1,150,150,3)\n",
        "img = img.astype('float32')\n",
        "img = img/255\n",
        "\n",
        "result = np.argmax(model_ANN.predict(img),axis=-1)\n",
        "predict[result]"
      ]
    },
    {
      "cell_type": "code",
      "source": [
        "# Check accuracy\n",
        "from tensorflow.keras.utils import load_img, img_to_array\n",
        "import numpy as np\n",
        "filename = \"/content/drive/MyDrive/Data_food/train/bunrieu/bunrieu10.jpg\"\n",
        "\n",
        "predict = ['pho','banhmi','banhxeo','buncha','bunrieu','chetroinuoc','gakho','goicuon','miquang','thitkho']\n",
        "predict = np.array(predict)\n",
        "\n",
        "\n",
        "img = load_img(filename,target_size=(150,150))\n",
        "img = img_to_array(img)\n",
        "img = img.reshape(1,150,150,3)\n",
        "img = img.astype('float32')\n",
        "img = img/255\n",
        "\n",
        "result = np.argmax(model_ANN.predict(img),axis=-1)\n",
        "predict[result]"
      ],
      "metadata": {
        "colab": {
          "base_uri": "https://localhost:8080/"
        },
        "id": "YUxuTFvx-H3Y",
        "outputId": "b11b609b-8ced-4cab-8d1c-bf26886b9f67"
      },
      "execution_count": 12,
      "outputs": [
        {
          "output_type": "execute_result",
          "data": {
            "text/plain": [
              "array(['bunrieu'], dtype='<U11')"
            ]
          },
          "metadata": {},
          "execution_count": 12
        }
      ]
    }
  ],
  "metadata": {
    "accelerator": "GPU",
    "colab": {
      "name": "nhan_dien_do_an.ipynb",
      "provenance": [],
      "mount_file_id": "1vPHAMsuj-F1SpM73zwTUFimtdCc3eTJV",
      "authorship_tag": "ABX9TyNcMIa++iUe4UpiuC9UWeN3",
      "include_colab_link": true
    },
    "kernelspec": {
      "display_name": "Python 3",
      "name": "python3"
    },
    "language_info": {
      "name": "python"
    }
  },
  "nbformat": 4,
  "nbformat_minor": 0
}