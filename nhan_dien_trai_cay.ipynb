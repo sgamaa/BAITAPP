{
  "cells": [
    {
      "cell_type": "markdown",
      "metadata": {
        "id": "view-in-github",
        "colab_type": "text"
      },
      "source": [
        "<a href=\"https://colab.research.google.com/github/sgamaa/BAITAP_AI/blob/main/nhan_dien_trai_cay.ipynb\" target=\"_parent\"><img src=\"https://colab.research.google.com/assets/colab-badge.svg\" alt=\"Open In Colab\"/></a>"
      ]
    },
    {
      "cell_type": "code",
      "execution_count": 1,
      "metadata": {
        "id": "nOlAvCg29oco"
      },
      "outputs": [],
      "source": [
        "# Import Libraries\n",
        "import tensorflow as tf\n",
        "import matplotlib.pyplot as plt\n",
        "import cv2 as cv\n",
        "import os\n",
        "import numpy as np\n",
        "from tensorflow.keras.preprocessing.image import ImageDataGenerator\n",
        "from tensorflow.keras.preprocessing import image\n",
        "from tensorflow.keras import layers\n",
        "# Gọi các thư viện cần thiết \n",
        "import pandas as pd # Xu lý bảng\n",
        "import seaborn as sns # Vẽ biểu đồ thị của dữ liệu\n",
        "import matplotlib.pyplot as plt \n",
        "from sklearn.preprocessing import StandardScaler # Xử lý chuẩn hóa dữ liệu\n",
        "from sklearn.model_selection import train_test_split # Chia dữ liệu ra làm 2 phần\n",
        "from keras.layers import Dense, Activation, Dropout, BatchNormalization, LSTM    # LSTM  biên dạng ANN, BatchNormalization: cho nhỏ lại\n",
        "from keras.models import Sequential\n",
        "from tensorflow.keras.utils import to_categorical # Sử dung để làm nổi đối tượng cần phân loại\n",
        "from keras import callbacks \n",
        "from sklearn.metrics import precision_score, recall_score, confusion_matrix, classification_report, accuracy_score, f1_score # Để đo lường\n",
        "\n",
        "from tensorflow.keras.preprocessing.image import ImageDataGenerator\n",
        "from keras.utils import np_utils\n",
        "from tensorflow.keras.preprocessing import image\n",
        "from keras.layers import Dense, Dropout\n",
        "from keras.callbacks import EarlyStopping\n",
        "import matplotlib.pyplot as plt\n",
        "import tensorflow as tf\n",
        "import cv2\n",
        "\n",
        "import seaborn as sns\n",
        "import matplotlib.pyplot as plt\n",
        "from sklearn import preprocessing\n",
        "from keras import callbacks\n",
        "import keras\n",
        "from keras.layers import Dense # fully connected\n",
        "from keras.datasets import boston_housing\n",
        "from tensorflow.keras.optimizers import RMSprop # toi uu\n",
        "from keras.callbacks import EarlyStopping # dung lai ngay lap tuc\n",
        "from sklearn.preprocessing import scale # xu li du lieu"
      ]
    },
    {
      "cell_type": "code",
      "execution_count": 2,
      "metadata": {
        "id": "SqbBP9Aw-4Nk"
      },
      "outputs": [],
      "source": [
        "import glob\n",
        "buoi    = glob.glob('/content/drive/MyDrive/Data-trái-cây/train/Buoi/*.*')\n",
        "hongxiem    = glob.glob('/content/drive/MyDrive/Data-trái-cây/train/hongxiem/*.*')\n",
        "mangcut    = glob.glob('/content/drive/MyDrive/Data-trái-cây/train/mangcut/*.*')\n",
        "mit    = glob.glob('/content/drive/MyDrive/Data-trái-cây/train/mit/*.*')\n",
        "quyt    = glob.glob('/content/drive/MyDrive/Data-trái-cây/train/quyt/*.*')\n",
        "saurieng    = glob.glob('/content/drive/MyDrive/Data-trái-cây/train/saurieng/*.*')\n",
        "thanhlong    = glob.glob('/content/drive/MyDrive/Data-trái-cây/train/thanhlong/*.*')\n",
        "vai    = glob.glob('/content/drive/MyDrive/Data-trái-cây/train/vai/*.*')\n",
        "vusua    = glob.glob('/content/drive/MyDrive/Data-trái-cây/train/vusua/*.*')\n",
        "xoai    = glob.glob('/content/drive/MyDrive/Data-trái-cây/train/xoai/*.*')\n",
        "\n",
        "data = []\n",
        "labels = []\n",
        "\n",
        "for i in buoi:   \n",
        "    image=tf.keras.preprocessing.image.load_img(i, color_mode='rgb', \n",
        "    target_size= (150,150))\n",
        "    image=np.array(image)\n",
        "    data.append(image)\n",
        "    labels.append(0)\n",
        "for i in hongxiem:   \n",
        "    image=tf.keras.preprocessing.image.load_img(i, color_mode='rgb', \n",
        "    target_size= (150,150))\n",
        "    image=np.array(image)\n",
        "    data.append(image)\n",
        "    labels.append(1)\n",
        "for i in mangcut:   \n",
        "    image=tf.keras.preprocessing.image.load_img(i, color_mode='rgb', \n",
        "    target_size= (150,150))\n",
        "    image=np.array(image)\n",
        "    data.append(image)\n",
        "    labels.append(2)\n",
        "for i in mit:   \n",
        "    image=tf.keras.preprocessing.image.load_img(i, color_mode='rgb', \n",
        "    target_size= (150,150))\n",
        "    image=np.array(image)\n",
        "    data.append(image)\n",
        "    labels.append(3)\n",
        "for i in quyt:   \n",
        "    image=tf.keras.preprocessing.image.load_img(i, color_mode='rgb', \n",
        "    target_size= (150,150))\n",
        "    image=np.array(image)\n",
        "    data.append(image)\n",
        "    labels.append(4)\n",
        "for i in saurieng:   \n",
        "    image=tf.keras.preprocessing.image.load_img(i, color_mode='rgb', \n",
        "    target_size= (150,150))\n",
        "    image=np.array(image)\n",
        "    data.append(image)\n",
        "    labels.append(5)\n",
        "for i in thanhlong:   \n",
        "    image=tf.keras.preprocessing.image.load_img(i, color_mode='rgb', \n",
        "    target_size= (150,150))\n",
        "    image=np.array(image)\n",
        "    data.append(image)\n",
        "    labels.append(6)\n",
        "for i in vai:   \n",
        "    image=tf.keras.preprocessing.image.load_img(i, color_mode='rgb', \n",
        "    target_size= (150,150))\n",
        "    image=np.array(image)\n",
        "    data.append(image)\n",
        "    labels.append(7)\n",
        "for i in vusua:   \n",
        "    image=tf.keras.preprocessing.image.load_img(i, color_mode='rgb', \n",
        "    target_size= (150,150))\n",
        "    image=np.array(image)\n",
        "    data.append(image)\n",
        "    labels.append(8)\n",
        "for i in xoai:   \n",
        "    image=tf.keras.preprocessing.image.load_img(i, color_mode='rgb', \n",
        "    target_size= (150,150))\n",
        "    image=np.array(image)\n",
        "    data.append(image)\n",
        "    labels.append(9)"
      ]
    },
    {
      "cell_type": "code",
      "execution_count": 3,
      "metadata": {
        "id": "KH8LRVBL_9Ck"
      },
      "outputs": [],
      "source": [
        "data = np.array(data)\n",
        "labels = np.array(labels)\n",
        "x_train, x_test, y_train, y_test = train_test_split(data, labels, test_size=0.2,random_state=50)"
      ]
    },
    {
      "cell_type": "code",
      "execution_count": 4,
      "metadata": {
        "colab": {
          "base_uri": "https://localhost:8080/"
        },
        "id": "6WfCg89-Aa7V",
        "outputId": "09688a69-1da9-4c58-8487-c564185c8973"
      },
      "outputs": [
        {
          "output_type": "execute_result",
          "data": {
            "text/plain": [
              "((320, 150, 150, 3), (80, 150, 150, 3), (320,), (80,))"
            ]
          },
          "metadata": {},
          "execution_count": 4
        }
      ],
      "source": [
        "# Kich thuoc cac tap du lieu \n",
        "x_train.shape,x_test.shape,y_train.shape,y_test.shape"
      ]
    },
    {
      "cell_type": "code",
      "execution_count": 5,
      "metadata": {
        "id": "0sAWnl3YAc7C"
      },
      "outputs": [],
      "source": [
        "x_train = x_train.reshape((x_train.shape[0],150,150,3))\n",
        "x_train = x_train.astype('float32')/255\n",
        "\n",
        "x_test = x_test.reshape((x_test.shape[0],150,150,3))\n",
        "x_test = x_test.astype('float32')/255\n",
        "\n",
        "y_train = to_categorical(y_train,10)\n",
        "y_test = to_categorical(y_test,10)"
      ]
    },
    {
      "cell_type": "code",
      "execution_count": 6,
      "metadata": {
        "colab": {
          "base_uri": "https://localhost:8080/"
        },
        "id": "rwvMXGzLAipb",
        "outputId": "14164f6e-7b37-417d-fc64-ad1374ef063d"
      },
      "outputs": [
        {
          "output_type": "stream",
          "name": "stdout",
          "text": [
            "Model: \"sequential\"\n",
            "_________________________________________________________________\n",
            " Layer (type)                Output Shape              Param #   \n",
            "=================================================================\n",
            " conv2d (Conv2D)             (None, 150, 150, 32)      896       \n",
            "                                                                 \n",
            " conv2d_1 (Conv2D)           (None, 150, 150, 32)      9248      \n",
            "                                                                 \n",
            " max_pooling2d (MaxPooling2D  (None, 75, 75, 32)       0         \n",
            " )                                                               \n",
            "                                                                 \n",
            " conv2d_2 (Conv2D)           (None, 75, 75, 64)        18496     \n",
            "                                                                 \n",
            " conv2d_3 (Conv2D)           (None, 75, 75, 64)        36928     \n",
            "                                                                 \n",
            " max_pooling2d_1 (MaxPooling  (None, 37, 37, 64)       0         \n",
            " 2D)                                                             \n",
            "                                                                 \n",
            " conv2d_4 (Conv2D)           (None, 37, 37, 128)       73856     \n",
            "                                                                 \n",
            " conv2d_5 (Conv2D)           (None, 37, 37, 128)       147584    \n",
            "                                                                 \n",
            " max_pooling2d_2 (MaxPooling  (None, 18, 18, 128)      0         \n",
            " 2D)                                                             \n",
            "                                                                 \n",
            " conv2d_6 (Conv2D)           (None, 18, 18, 256)       295168    \n",
            "                                                                 \n",
            " conv2d_7 (Conv2D)           (None, 18, 18, 256)       590080    \n",
            "                                                                 \n",
            " max_pooling2d_3 (MaxPooling  (None, 9, 9, 256)        0         \n",
            " 2D)                                                             \n",
            "                                                                 \n",
            " flatten (Flatten)           (None, 20736)             0         \n",
            "                                                                 \n",
            " dense (Dense)               (None, 128)               2654336   \n",
            "                                                                 \n",
            " dense_1 (Dense)             (None, 128)               16512     \n",
            "                                                                 \n",
            " dense_2 (Dense)             (None, 128)               16512     \n",
            "                                                                 \n",
            " dense_3 (Dense)             (None, 128)               16512     \n",
            "                                                                 \n",
            " dense_4 (Dense)             (None, 128)               16512     \n",
            "                                                                 \n",
            " dense_5 (Dense)             (None, 128)               16512     \n",
            "                                                                 \n",
            " dense_6 (Dense)             (None, 10)                1290      \n",
            "                                                                 \n",
            "=================================================================\n",
            "Total params: 3,910,442\n",
            "Trainable params: 3,910,442\n",
            "Non-trainable params: 0\n",
            "_________________________________________________________________\n"
          ]
        }
      ],
      "source": [
        "# Khoi tao model \n",
        "from keras.layers import Conv2D, MaxPooling2D\n",
        "model = Sequential()\n",
        "model.add(Conv2D(32,(3,3), activation='relu',kernel_initializer='he_uniform',padding='same',input_shape=(150,150,3)))\n",
        "model.add(Conv2D(32,(3,3), activation='relu',kernel_initializer='he_uniform',padding='same'))\n",
        "model.add(MaxPooling2D(2,2))\n",
        "\n",
        "model.add(Conv2D(64,(3,3), activation='relu',kernel_initializer='he_uniform',padding='same')) # 64 lan tich chap\n",
        "model.add(Conv2D(64,(3,3), activation='relu',kernel_initializer='he_uniform',padding='same'))\n",
        "model.add(MaxPooling2D(2,2))\n",
        "\n",
        "model.add(Conv2D(128,(3,3), activation='relu',kernel_initializer='he_uniform',padding='same')) # 128 lan tich chap\n",
        "model.add(Conv2D(128,(3,3), activation='relu',kernel_initializer='he_uniform',padding='same'))\n",
        "model.add(MaxPooling2D(2,2))\n",
        "\n",
        "model.add(Conv2D(256,(3,3), activation='relu',kernel_initializer='he_uniform',padding='same')) # 256 lan tich chap\n",
        "model.add(Conv2D(256,(3,3), activation='relu',kernel_initializer='he_uniform',padding='same'))\n",
        "model.add(MaxPooling2D(2,2))\n",
        "\n",
        "from keras.layers import Dense, Activation, Flatten\n",
        "model.add(Flatten())\n",
        "model.add(Dense(128, activation = 'relu', kernel_initializer='he_uniform'))\n",
        "model.add(Dense(128, activation = 'relu', kernel_initializer='he_uniform'))\n",
        "model.add(Dense(128, activation = 'relu', kernel_initializer='he_uniform'))\n",
        "model.add(Dense(128, activation = 'relu', kernel_initializer='he_uniform'))\n",
        "model.add(Dense(128, activation = 'relu', kernel_initializer='he_uniform'))\n",
        "model.add(Dense(128, activation = 'relu', kernel_initializer='he_uniform'))\n",
        "model.add(Dense(10))\n",
        "model.summary()"
      ]
    },
    {
      "cell_type": "markdown",
      "metadata": {
        "id": "FRG2qBTTBYhA"
      },
      "source": [
        ""
      ]
    },
    {
      "cell_type": "code",
      "execution_count": 7,
      "metadata": {
        "colab": {
          "base_uri": "https://localhost:8080/"
        },
        "id": "c4CHaZXwAmMA",
        "outputId": "fb1678c5-855a-4fcc-d3ab-7e433e227541"
      },
      "outputs": [
        {
          "output_type": "stream",
          "name": "stdout",
          "text": [
            "Epoch 1/50\n",
            "2/2 [==============================] - 26s 7s/step - loss: 322.8279 - accuracy: 0.0812 - val_loss: 0.1267 - val_accuracy: 0.0750\n",
            "Epoch 2/50\n",
            "2/2 [==============================] - 1s 398ms/step - loss: 0.1125 - accuracy: 0.0969 - val_loss: 0.0945 - val_accuracy: 0.0625\n",
            "Epoch 3/50\n",
            "2/2 [==============================] - 1s 393ms/step - loss: 0.0923 - accuracy: 0.1031 - val_loss: 0.0935 - val_accuracy: 0.0250\n",
            "Epoch 4/50\n",
            "2/2 [==============================] - 1s 397ms/step - loss: 0.0917 - accuracy: 0.0969 - val_loss: 0.0920 - val_accuracy: 0.1000\n",
            "Epoch 5/50\n",
            "2/2 [==============================] - 1s 403ms/step - loss: 0.0915 - accuracy: 0.1219 - val_loss: 0.0903 - val_accuracy: 0.1375\n",
            "Epoch 6/50\n",
            "2/2 [==============================] - 1s 398ms/step - loss: 0.0910 - accuracy: 0.1781 - val_loss: 0.1053 - val_accuracy: 0.0375\n",
            "Epoch 7/50\n",
            "2/2 [==============================] - 1s 392ms/step - loss: 0.0950 - accuracy: 0.1375 - val_loss: 0.0918 - val_accuracy: 0.0625\n",
            "Epoch 8/50\n",
            "2/2 [==============================] - 1s 402ms/step - loss: 0.0897 - accuracy: 0.1219 - val_loss: 0.0909 - val_accuracy: 0.0500\n",
            "Epoch 9/50\n",
            "2/2 [==============================] - 1s 475ms/step - loss: 0.0888 - accuracy: 0.1781 - val_loss: 0.0903 - val_accuracy: 0.1500\n",
            "Epoch 10/50\n",
            "2/2 [==============================] - 1s 396ms/step - loss: 0.0879 - accuracy: 0.1562 - val_loss: 0.0899 - val_accuracy: 0.2375\n",
            "Epoch 11/50\n",
            "2/2 [==============================] - 1s 395ms/step - loss: 0.0897 - accuracy: 0.2062 - val_loss: 0.0902 - val_accuracy: 0.0875\n",
            "Epoch 12/50\n",
            "2/2 [==============================] - 1s 408ms/step - loss: 0.0878 - accuracy: 0.2188 - val_loss: 0.0917 - val_accuracy: 0.0750\n",
            "Epoch 13/50\n",
            "2/2 [==============================] - 1s 430ms/step - loss: 0.0874 - accuracy: 0.2344 - val_loss: 0.0904 - val_accuracy: 0.1625\n",
            "Epoch 14/50\n",
            "2/2 [==============================] - 1s 395ms/step - loss: 0.0866 - accuracy: 0.2719 - val_loss: 0.0886 - val_accuracy: 0.1750\n",
            "Epoch 15/50\n",
            "2/2 [==============================] - 1s 477ms/step - loss: 0.0885 - accuracy: 0.2281 - val_loss: 0.0887 - val_accuracy: 0.1375\n",
            "Epoch 16/50\n",
            "2/2 [==============================] - 1s 399ms/step - loss: 0.0861 - accuracy: 0.2438 - val_loss: 0.0921 - val_accuracy: 0.1250\n",
            "Epoch 17/50\n",
            "2/2 [==============================] - 1s 400ms/step - loss: 0.0907 - accuracy: 0.1813 - val_loss: 0.0957 - val_accuracy: 0.0375\n",
            "Epoch 18/50\n",
            "2/2 [==============================] - 1s 402ms/step - loss: 0.0900 - accuracy: 0.1656 - val_loss: 0.0886 - val_accuracy: 0.1750\n",
            "Epoch 19/50\n",
            "2/2 [==============================] - 1s 406ms/step - loss: 0.0874 - accuracy: 0.2406 - val_loss: 0.0896 - val_accuracy: 0.1500\n",
            "Epoch 20/50\n",
            "2/2 [==============================] - 1s 393ms/step - loss: 0.0909 - accuracy: 0.1562 - val_loss: 0.0876 - val_accuracy: 0.1500\n",
            "Epoch 21/50\n",
            "2/2 [==============================] - 1s 405ms/step - loss: 0.0866 - accuracy: 0.2250 - val_loss: 0.0929 - val_accuracy: 0.0750\n",
            "Epoch 22/50\n",
            "2/2 [==============================] - 1s 394ms/step - loss: 0.0888 - accuracy: 0.1969 - val_loss: 0.0877 - val_accuracy: 0.1500\n",
            "Epoch 23/50\n",
            "2/2 [==============================] - 1s 398ms/step - loss: 0.0829 - accuracy: 0.3562 - val_loss: 0.0884 - val_accuracy: 0.1500\n",
            "Epoch 24/50\n",
            "2/2 [==============================] - 1s 401ms/step - loss: 0.0818 - accuracy: 0.3344 - val_loss: 0.0861 - val_accuracy: 0.1875\n",
            "Epoch 25/50\n",
            "2/2 [==============================] - 1s 477ms/step - loss: 0.1055 - accuracy: 0.2594 - val_loss: 0.0999 - val_accuracy: 0.1250\n",
            "Epoch 26/50\n",
            "2/2 [==============================] - 1s 399ms/step - loss: 0.0955 - accuracy: 0.1281 - val_loss: 0.0908 - val_accuracy: 0.2000\n",
            "Epoch 27/50\n",
            "2/2 [==============================] - 1s 399ms/step - loss: 0.0918 - accuracy: 0.1531 - val_loss: 0.0923 - val_accuracy: 0.1125\n",
            "Epoch 28/50\n",
            "2/2 [==============================] - 1s 405ms/step - loss: 0.0884 - accuracy: 0.2375 - val_loss: 0.0876 - val_accuracy: 0.1750\n",
            "Epoch 29/50\n",
            "2/2 [==============================] - 1s 405ms/step - loss: 0.0835 - accuracy: 0.2562 - val_loss: 0.0940 - val_accuracy: 0.0875\n",
            "Epoch 30/50\n",
            "2/2 [==============================] - 1s 400ms/step - loss: 0.0929 - accuracy: 0.1469 - val_loss: 0.0900 - val_accuracy: 0.1125\n",
            "Epoch 31/50\n",
            "2/2 [==============================] - 1s 415ms/step - loss: 0.0888 - accuracy: 0.1437 - val_loss: 0.0864 - val_accuracy: 0.2875\n",
            "Epoch 32/50\n",
            "2/2 [==============================] - 1s 477ms/step - loss: 0.0853 - accuracy: 0.2844 - val_loss: 0.0853 - val_accuracy: 0.2625\n",
            "Epoch 33/50\n",
            "2/2 [==============================] - 1s 399ms/step - loss: 0.0835 - accuracy: 0.3031 - val_loss: 0.0947 - val_accuracy: 0.0875\n",
            "Epoch 34/50\n",
            "2/2 [==============================] - 1s 399ms/step - loss: 0.0869 - accuracy: 0.2250 - val_loss: 0.0845 - val_accuracy: 0.3000\n",
            "Epoch 35/50\n",
            "2/2 [==============================] - 1s 401ms/step - loss: 0.0817 - accuracy: 0.3125 - val_loss: 0.0858 - val_accuracy: 0.2375\n",
            "Epoch 36/50\n",
            "2/2 [==============================] - 1s 400ms/step - loss: 0.0793 - accuracy: 0.3469 - val_loss: 0.0849 - val_accuracy: 0.2625\n",
            "Epoch 37/50\n",
            "2/2 [==============================] - 1s 403ms/step - loss: 0.0843 - accuracy: 0.3187 - val_loss: 0.0883 - val_accuracy: 0.2625\n",
            "Epoch 38/50\n",
            "2/2 [==============================] - 1s 408ms/step - loss: 0.0859 - accuracy: 0.2719 - val_loss: 0.0820 - val_accuracy: 0.3375\n",
            "Epoch 39/50\n",
            "2/2 [==============================] - 1s 404ms/step - loss: 0.0834 - accuracy: 0.3500 - val_loss: 0.0874 - val_accuracy: 0.2125\n",
            "Epoch 40/50\n",
            "2/2 [==============================] - 1s 397ms/step - loss: 0.0891 - accuracy: 0.1937 - val_loss: 0.0948 - val_accuracy: 0.0750\n",
            "Epoch 41/50\n",
            "2/2 [==============================] - 1s 405ms/step - loss: 0.0891 - accuracy: 0.1688 - val_loss: 0.0873 - val_accuracy: 0.2125\n",
            "Epoch 42/50\n",
            "2/2 [==============================] - 1s 402ms/step - loss: 0.0791 - accuracy: 0.3781 - val_loss: 0.0853 - val_accuracy: 0.2875\n",
            "Epoch 43/50\n",
            "2/2 [==============================] - 1s 400ms/step - loss: 0.0883 - accuracy: 0.3625 - val_loss: 0.1044 - val_accuracy: 0.0250\n",
            "Epoch 44/50\n",
            "2/2 [==============================] - 1s 409ms/step - loss: 0.0969 - accuracy: 0.2156 - val_loss: 0.0875 - val_accuracy: 0.2375\n",
            "Epoch 45/50\n",
            "2/2 [==============================] - 1s 402ms/step - loss: 0.0857 - accuracy: 0.2531 - val_loss: 0.0909 - val_accuracy: 0.1125\n",
            "Epoch 46/50\n",
            "2/2 [==============================] - 1s 404ms/step - loss: 0.0886 - accuracy: 0.2094 - val_loss: 0.0863 - val_accuracy: 0.2500\n",
            "Epoch 47/50\n",
            "2/2 [==============================] - 1s 407ms/step - loss: 0.0808 - accuracy: 0.4031 - val_loss: 0.0881 - val_accuracy: 0.1500\n",
            "Epoch 48/50\n",
            "2/2 [==============================] - 1s 407ms/step - loss: 0.0799 - accuracy: 0.3781 - val_loss: 0.1066 - val_accuracy: 0.1250\n",
            "Epoch 49/50\n",
            "2/2 [==============================] - 1s 403ms/step - loss: 0.1030 - accuracy: 0.1937 - val_loss: 0.0887 - val_accuracy: 0.2375\n",
            "Epoch 50/50\n",
            "2/2 [==============================] - 1s 396ms/step - loss: 0.0896 - accuracy: 0.2094 - val_loss: 0.0919 - val_accuracy: 0.1375\n"
          ]
        }
      ],
      "source": [
        "model.compile(loss='mse',optimizer=RMSprop(),metrics=['accuracy'])\n",
        "# Training model\n",
        "history=model.fit(x_train,y_train,batch_size=164,epochs=50,validation_data =(x_test,y_test),verbose =1)"
      ]
    },
    {
      "cell_type": "code",
      "source": [
        "# Save model\n",
        "from tensorflow.keras.models import load_model\n",
        "model.save('Final.h5')\n",
        "model_ANN = load_model('Final.h5')"
      ],
      "metadata": {
        "id": "466pWXe9LmwD"
      },
      "execution_count": 8,
      "outputs": []
    },
    {
      "cell_type": "code",
      "source": [
        "# Check accuracy\n",
        "from tensorflow.keras.utils import load_img, img_to_array\n",
        "import numpy as np\n",
        "filename = \"/content/drive/MyDrive/Data-trái-cây/train/mangcut/mangcut12.jpg\"\n",
        "\n",
        "predict = ['buoi','hongxiem','mangcut','mit','quyt','saurieng','thanhlong','vai','vusua','xoai']\n",
        "predict = np.array(predict)\n",
        "\n",
        "\n",
        "img = load_img(filename,target_size=(150,150))\n",
        "img = img_to_array(img)\n",
        "img = img.reshape(1,150,150,3)\n",
        "img = img.astype('float32')\n",
        "img = img/255\n",
        "\n",
        "result = np.argmax(model_ANN.predict(img),axis=-1)\n",
        "predict[result]"
      ],
      "metadata": {
        "colab": {
          "base_uri": "https://localhost:8080/"
        },
        "id": "5CMMuJ-bLoPj",
        "outputId": "3144c766-c8ad-413c-b0be-4eaf51ab12ab"
      },
      "execution_count": 12,
      "outputs": [
        {
          "output_type": "execute_result",
          "data": {
            "text/plain": [
              "array(['xoai'], dtype='<U9')"
            ]
          },
          "metadata": {},
          "execution_count": 12
        }
      ]
    },
    {
      "cell_type": "code",
      "source": [
        "# Check accuracy\n",
        "from tensorflow.keras.utils import load_img, img_to_array\n",
        "import numpy as np\n",
        "filename = \"/content/drive/MyDrive/Data-trái-cây/train/vai/vai1.jpg\"\n",
        "\n",
        "predict = ['buoi','hongxiem','mangcut','mit','quyt','saurieng','thanhlong','vai','vusua','xoai']\n",
        "predict = np.array(predict)\n",
        "\n",
        "\n",
        "img = load_img(filename,target_size=(150,150))\n",
        "img = img_to_array(img)\n",
        "img = img.reshape(1,150,150,3)\n",
        "img = img.astype('float32')\n",
        "img = img/255\n",
        "\n",
        "result = np.argmax(model_ANN.predict(img),axis=-1)\n",
        "predict[result]"
      ],
      "metadata": {
        "colab": {
          "base_uri": "https://localhost:8080/"
        },
        "id": "UWh6lJaNM2e_",
        "outputId": "ec9fc911-2946-4715-ee6d-efed281727aa"
      },
      "execution_count": 13,
      "outputs": [
        {
          "output_type": "execute_result",
          "data": {
            "text/plain": [
              "array(['xoai'], dtype='<U9')"
            ]
          },
          "metadata": {},
          "execution_count": 13
        }
      ]
    },
    {
      "cell_type": "code",
      "source": [
        "# Check accuracy\n",
        "from tensorflow.keras.utils import load_img, img_to_array\n",
        "import numpy as np\n",
        "filename = \"/content/drive/MyDrive/Data-trái-cây/train/vai/vai22.jpg\"\n",
        "\n",
        "predict = ['buoi','hongxiem','mangcut','mit','quyt','saurieng','thanhlong','vai','vusua','xoai']\n",
        "predict = np.array(predict)\n",
        "\n",
        "\n",
        "img = load_img(filename,target_size=(150,150))\n",
        "img = img_to_array(img)\n",
        "img = img.reshape(1,150,150,3)\n",
        "img = img.astype('float32')\n",
        "img = img/255\n",
        "\n",
        "result = np.argmax(model_ANN.predict(img),axis=-1)\n",
        "predict[result]"
      ],
      "metadata": {
        "colab": {
          "base_uri": "https://localhost:8080/"
        },
        "id": "j6HlOKHgM7qh",
        "outputId": "d230e2ea-9661-46ec-9f20-d23aaa556538"
      },
      "execution_count": 14,
      "outputs": [
        {
          "output_type": "execute_result",
          "data": {
            "text/plain": [
              "array(['xoai'], dtype='<U9')"
            ]
          },
          "metadata": {},
          "execution_count": 14
        }
      ]
    }
  ],
  "metadata": {
    "accelerator": "GPU",
    "colab": {
      "name": "nhan_dien_trai_cay",
      "provenance": [],
      "mount_file_id": "1DzkoZDVWUOH8s75QhqGpoAZHaY1cP09H",
      "authorship_tag": "ABX9TyOYHwspv1ijIFNkGSCgW/t/",
      "include_colab_link": true
    },
    "kernelspec": {
      "display_name": "Python 3",
      "name": "python3"
    },
    "language_info": {
      "name": "python"
    }
  },
  "nbformat": 4,
  "nbformat_minor": 0
}